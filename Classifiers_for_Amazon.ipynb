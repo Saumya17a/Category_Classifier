{
 "cells": [
  {
   "cell_type": "code",
   "execution_count": null,
   "metadata": {},
   "outputs": [],
   "source": [
    "import json\n",
    "import numpy as np\n",
    "import random\n",
    "from sklearn.model_selection import train_test_split\n",
    "from sklearn.feature_extraction.text import CountVectorizer, TfidfVectorizer\n",
    "from sklearn.metrics import f1_score\n"
   ]
  },
  {
   "cell_type": "code",
   "execution_count": null,
   "metadata": {},
   "outputs": [],
   "source": [
    "class Section:\n",
    "    CLOTHING = \"CLOTHING\"\n",
    "    GROCERY = \"GROCERY\"\n",
    "    \n",
    "\n",
    "\n",
    "class Attributes:\n",
    "    def __init__(self, section, text):\n",
    "        self.section = section\n",
    "        self.text = text\n",
    "        \n",
    "\n",
    "class Container:\n",
    "    def __init__(self, reviews):\n",
    "        self.reviews = reviews\n",
    "    \n",
    "    def get_text(self):\n",
    "        return [x.text for x in self.reviews]\n",
    "    \n",
    "    def get_x(self, vectorizer):\n",
    "        return vectorizer.transform(self.get_text())\n",
    "    \n",
    "    def get_section(self):\n",
    "        return [x.section for x in self.reviews]\n",
    "\n",
    "        "
   ]
  },
  {
   "cell_type": "code",
   "execution_count": 3,
   "metadata": {},
   "outputs": [],
   "source": [
    "file_names = ['Clothing_small.json','Grocery_small.json']\n",
    "sections = [Section.CLOTHING, Section.GROCERY]\n",
    "\n",
    "reviews = []\n",
    "for i in range(len(file_names)):\n",
    "    file_name = file_names[i]\n",
    "    section = sections[i]\n",
    "    with open(file_name) as f:\n",
    "        for line in f:\n",
    "            review_json = json.loads(line)\n",
    "            review = Attributes(section, review_json['reviewText'])\n",
    "            reviews.append(review)\n",
    "            "
   ]
  },
  {
   "cell_type": "code",
   "execution_count": 4,
   "metadata": {},
   "outputs": [],
   "source": [
    "train, test = train_test_split(reviews, test_size = 0.20, random_state=42)\n",
    "train_container = Container(train)\n",
    "test_container = Container(test)\n",
    "\n",
    "\n",
    "corpus = train_container.get_text()\n",
    "vectorizer = TfidfVectorizer()\n",
    "vectorizer.fit(corpus)\n",
    "\n",
    "train_x = train_container.get_x(vectorizer)\n",
    "train_y = train_container.get_section()\n",
    "\n",
    "test_x = test_container.get_x(vectorizer)\n",
    "test_y = test_container.get_section()"
   ]
  },
  {
   "cell_type": "markdown",
   "metadata": {},
   "source": [
    " #### MODEL SVM "
   ]
  },
  {
   "cell_type": "code",
   "execution_count": 5,
   "metadata": {},
   "outputs": [
    {
     "name": "stdout",
     "output_type": "stream",
     "text": [
      "0.955\n"
     ]
    }
   ],
   "source": [
    "from sklearn import svm\n",
    "\n",
    "clf = svm.SVC(C=16, kernel='linear', gamma='auto')\n",
    "clf.fit(train_x, train_y)\n",
    "print(clf.score(test_x, test_y))"
   ]
  },
  {
   "cell_type": "code",
   "execution_count": 6,
   "metadata": {},
   "outputs": [
    {
     "data": {
      "text/plain": [
       "0.925"
      ]
     },
     "execution_count": 6,
     "metadata": {},
     "output_type": "execute_result"
    }
   ],
   "source": [
    "from sklearn.naive_bayes import GaussianNB\n",
    "nb = GaussianNB()\n",
    "\n",
    "\n",
    "nb.fit(train_x.todense(),train_y)\n",
    "nb.score(test_x.todense(),test_y)"
   ]
  },
  {
   "cell_type": "code",
   "execution_count": 8,
   "metadata": {},
   "outputs": [
    {
     "data": {
      "text/plain": [
       "0.845"
      ]
     },
     "execution_count": 8,
     "metadata": {},
     "output_type": "execute_result"
    }
   ],
   "source": [
    "from sklearn.tree import DecisionTreeClassifier\n",
    "\n",
    "dt = DecisionTreeClassifier()\n",
    "dt.fit(train_x, train_y)\n",
    "\n",
    "\n",
    "\n",
    "dt.score(test_x,test_y)"
   ]
  },
  {
   "cell_type": "code",
   "execution_count": 9,
   "metadata": {},
   "outputs": [
    {
     "data": {
      "text/plain": [
       "GridSearchCV(cv=5, estimator=SVC(),\n",
       "             param_grid={'C': [0.1, 1, 8, 16, 32], 'kernel': ('linear', 'rbf')})"
      ]
     },
     "execution_count": 9,
     "metadata": {},
     "output_type": "execute_result"
    }
   ],
   "source": [
    "from sklearn.model_selection import GridSearchCV\n",
    "\n",
    "parameters = {'kernel':('linear', 'rbf'), 'C':[0.1,1,8,16,32]}\n",
    "svc = svm.SVC()\n",
    "clf_ = GridSearchCV(svc, parameters, cv=5)\n",
    "clf_.fit(train_x, train_y)\n",
    "\n"
   ]
  },
  {
   "cell_type": "code",
   "execution_count": 10,
   "metadata": {},
   "outputs": [
    {
     "data": {
      "text/plain": [
       "0.955"
      ]
     },
     "execution_count": 10,
     "metadata": {},
     "output_type": "execute_result"
    }
   ],
   "source": [
    "clf.score(test_x, test_y)"
   ]
  },
  {
   "cell_type": "code",
   "execution_count": 13,
   "metadata": {},
   "outputs": [
    {
     "data": {
      "text/plain": [
       "<matplotlib.axes._subplots.AxesSubplot at 0x2be08e07cf8>"
      ]
     },
     "execution_count": 13,
     "metadata": {},
     "output_type": "execute_result"
    },
    {
     "data": {
      "image/png": "[encoded data removed]",
      "text/plain": [
       "<Figure size 432x288 with 2 Axes>"
      ]
     },
     "metadata": {
      "needs_background": "light"
     },
     "output_type": "display_data"
    }
   ],
   "source": [
    "from sklearn.metrics import confusion_matrix\n",
    "import seaborn as sn\n",
    "import pandas as pd\n",
    "import matplotlib as plt\n",
    "\n",
    "y_pred = clf.predict(test_x)\n",
    "\n",
    "labels = [Section.GROCERY, Section.CLOTHING]\n",
    "\n",
    "cm = confusion_matrix(test_y, y_pred, labels=labels)\n",
    "df_cm = pd.DataFrame(cm, index=labels, columns=labels)\n",
    "\n",
    "sn.heatmap(df_cm, annot=True, fmt='d')\n"
   ]
  },
  {
   "cell_type": "code",
   "execution_count": null,
   "metadata": {},
   "outputs": [],
   "source": []
  }
 ],
 "metadata": {
  "kernelspec": {
   "display_name": "Python 3",
   "language": "python",
   "name": "python3"
  },
  "language_info": {
   "codemirror_mode": {
    "name": "ipython",
    "version": 3
   },
   "file_extension": ".py",
   "mimetype": "text/x-python",
   "name": "python",
   "nbconvert_exporter": "python",
   "pygments_lexer": "ipython3",
   "version": "3.7.3"
  }
 },
 "nbformat": 4,
 "nbformat_minor": 4
}
